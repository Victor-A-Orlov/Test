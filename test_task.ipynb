{
  "nbformat": 4,
  "nbformat_minor": 0,
  "metadata": {
    "colab": {
      "name": "test_tas.ipynb",
      "provenance": [],
      "collapsed_sections": [],
      "authorship_tag": "ABX9TyPC9H4DzEShwJ8X1qV7xlrj",
      "include_colab_link": true
    },
    "kernelspec": {
      "name": "python3",
      "display_name": "Python 3"
    },
    "language_info": {
      "name": "python"
    }
  },
  "cells": [
    {
      "cell_type": "markdown",
      "metadata": {
        "id": "view-in-github",
        "colab_type": "text"
      },
      "source": [
        "<a href=\"https://colab.research.google.com/github/Victor-A-Orlov/Test/blob/master/test_task.ipynb\" target=\"_parent\"><img src=\"https://colab.research.google.com/assets/colab-badge.svg\" alt=\"Open In Colab\"/></a>"
      ]
    },
    {
      "cell_type": "markdown",
      "source": [
        "# Задание 1"
      ],
      "metadata": {
        "id": "_pR86I4rd2KR"
      }
    },
    {
      "cell_type": "markdown",
      "source": [
        "## Импортируем необходимые библиотеки"
      ],
      "metadata": {
        "id": "YKMrkzRvczkQ"
      }
    },
    {
      "cell_type": "code",
      "execution_count": 12,
      "metadata": {
        "id": "Fw_CJ16QcAt7"
      },
      "outputs": [],
      "source": [
        "from sklearn.datasets import load_digits\n",
        "import matplotlib.pyplot as plt\n",
        "import numpy as np\n",
        "from sklearn.model_selection import train_test_split\n",
        "from sklearn.metrics import accuracy_score"
      ]
    },
    {
      "cell_type": "markdown",
      "source": [
        "## Загружаем данные\n",
        "Атрибут data содержит каждое изображение цифры в виде вектора длиной 64, что нам и нужно"
      ],
      "metadata": {
        "id": "TTpFAYQKdAVm"
      }
    },
    {
      "cell_type": "code",
      "source": [
        "digits = load_digits()\n",
        "X = digits.data\n",
        "y = digits.target\n",
        "print(X)"
      ],
      "metadata": {
        "colab": {
          "base_uri": "https://localhost:8080/"
        },
        "id": "27A2Wf4LdFrv",
        "outputId": "6225d1c8-7534-4907-e66b-8b8392f81689"
      },
      "execution_count": 13,
      "outputs": [
        {
          "output_type": "stream",
          "name": "stdout",
          "text": [
            "[[ 0.  0.  5. ...  0.  0.  0.]\n",
            " [ 0.  0.  0. ... 10.  0.  0.]\n",
            " [ 0.  0.  0. ... 16.  9.  0.]\n",
            " ...\n",
            " [ 0.  0.  1. ...  6.  0.  0.]\n",
            " [ 0.  0.  2. ... 12.  0.  0.]\n",
            " [ 0.  0. 10. ... 12.  1.  0.]]\n"
          ]
        }
      ]
    },
    {
      "cell_type": "markdown",
      "source": [
        "Отложим 25% для контрольной выборки"
      ],
      "metadata": {
        "id": "otdaSI2BdmFp"
      }
    },
    {
      "cell_type": "code",
      "source": [
        "X_train, X_test, y_train, y_test = train_test_split(X, y, test_size=0.25, random_state=42)"
      ],
      "metadata": {
        "id": "z7KT7z-hdc7A"
      },
      "execution_count": null,
      "outputs": []
    },
    {
      "cell_type": "markdown",
      "source": [
        "Создадим классификатор на основе метода одного ближайшего соседа (nearest neighbour). При этом для поиска ближайшего соседа вместо простого перебора используем структуру данных \"k-d tree\", как предлагается в задании."
      ],
      "metadata": {
        "id": "2F_3SKT5iB_E"
      }
    },
    {
      "cell_type": "markdown",
      "source": [
        "## Поиск ближайшего соседа с помощью **k-d tree**"
      ],
      "metadata": {
        "id": "je0fHxigcswd"
      }
    },
    {
      "cell_type": "markdown",
      "source": [
        "Для начала создадим класс `Tree`, создающий двоичное дерево, последовательно добавляя новые значения с помощью метода `insert`, и класс `Node` узла этого дерева. "
      ],
      "metadata": {
        "id": "zp6VMn2Iq0VC"
      }
    },
    {
      "cell_type": "code",
      "source": [
        "class Node:\n",
        "    def __init__(self, X, y, alignment_axis=0):\n",
        "        # Левые и правые \"ветви\" узла:\n",
        "        self.left = None\n",
        "        self.right = None\n",
        "        # Ось по которой будет происходить разделение:\n",
        "        self.axis = 0\n",
        "        # Данные в узле:\n",
        "        self.X = X\n",
        "        self.y = y\n",
        "        \n",
        "    # Для удобства вывода содержимого узла\n",
        "    def __call__(self):\n",
        "        return self.data"
      ],
      "metadata": {
        "id": "fbbQcqnRsQhB"
      },
      "execution_count": 15,
      "outputs": []
    },
    {
      "cell_type": "code",
      "source": [
        "class Tree:\n",
        "    def __init__(self, val=None):\n",
        "        self.root = None\n",
        "        \n",
        "    def insert(self, root=None, node=None):\n",
        "        if self.root is None:\n",
        "            self.root = node\n",
        "        else:\n",
        "            if root is None:\n",
        "                root = self.root\n",
        "            \n",
        "            dim = node.X.shape[0]\n",
        "            # Здесь мы циклично перебираем оси в пространства X (в задании их 64). \n",
        "            # Можно сделать также случайный перебор\n",
        "            node.axis = (root.axis + 1) % dim\n",
        "            if node.X[root.axis] < root.X[root.axis]:\n",
        "                if root.left is None:\n",
        "                    root.left = node\n",
        "                else:\n",
        "                    self.insert(root.left, node)\n",
        "            else:\n",
        "                if root.right is None:\n",
        "                    root.right = node\n",
        "                else:\n",
        "                    self.insert(root.right, node)"
      ],
      "metadata": {
        "id": "H3fRG-a3dw0A"
      },
      "execution_count": 16,
      "outputs": []
    },
    {
      "cell_type": "markdown",
      "source": [
        "Теперь нам нужна функция чтобы найти ближайшего соседа для искомой точки и для массива точек"
      ],
      "metadata": {
        "id": "EE8DctLxsjzP"
      }
    },
    {
      "cell_type": "code",
      "source": [
        "def find_one_neighbor(start_node, query):\n",
        "    best_distance = float(\"inf\")\n",
        "    best_node = start_node\n",
        "    node = start_node\n",
        "    while True:\n",
        "        # Евклидово расстояние:\n",
        "        dist = np.linalg.norm(node.X - query)\n",
        "        if dist < best_distance:\n",
        "            best_distance = dist\n",
        "            best_node = node\n",
        "        if query[node.axis] < node.X[node.axis]:\n",
        "            node = node.left\n",
        "            if node is None:\n",
        "                break\n",
        "        else:\n",
        "            node = node.right\n",
        "            if node is None:\n",
        "                break\n",
        "    \n",
        "    return best_node"
      ],
      "metadata": {
        "id": "-598GMlor5jg"
      },
      "execution_count": 17,
      "outputs": []
    },
    {
      "cell_type": "markdown",
      "source": [
        "Наконец, сделаем класс классификатора, который обучается на данных и предсказывает классы искомых точек."
      ],
      "metadata": {
        "id": "qBB427tkYkko"
      }
    },
    {
      "cell_type": "code",
      "source": [
        "def query_targets(start_node, query):\n",
        "    results = []\n",
        "    for q in query:\n",
        "        node = find_one_neighbor(start_node, q)\n",
        "        results.append(node.y)\n",
        "    return np.array(results)\n",
        "\n",
        "class NearestNeighborClassfier :\n",
        "    def __init__(self) -> None:\n",
        "        self.tree = Tree()\n",
        "\n",
        "    def fit(self, X, y):\n",
        "        for x_sample, y_sample in zip(X, y):\n",
        "            self.tree.insert(node=Node(x_sample, y_sample))\n",
        "\n",
        "    def predict(self, query):\n",
        "        return query_targets(self.tree.root, query)"
      ],
      "metadata": {
        "id": "N4e_Ai1IYhBh"
      },
      "execution_count": 18,
      "outputs": []
    },
    {
      "cell_type": "markdown",
      "source": [
        "## Результаты"
      ],
      "metadata": {
        "id": "PE1JiY7qc16E"
      }
    },
    {
      "cell_type": "markdown",
      "source": [
        "Проверим точность (accuracy) классификатора на тестовой выборке:"
      ],
      "metadata": {
        "id": "QNhz8G_8ZDwT"
      }
    },
    {
      "cell_type": "code",
      "source": [
        "clf = NearestNeighborClassfier()\n",
        "clf.fit(X_train, y_train)\n",
        "y_pred = clf.predict(X_test)\n",
        "print(accuracy_score(y_test, y_pred))"
      ],
      "metadata": {
        "colab": {
          "base_uri": "https://localhost:8080/"
        },
        "id": "olVDTgnMZA3I",
        "outputId": "76fd061c-57aa-4266-e32f-81bb40c98269"
      },
      "execution_count": 19,
      "outputs": [
        {
          "output_type": "stream",
          "name": "stdout",
          "text": [
            "0.88\n"
          ]
        }
      ]
    },
    {
      "cell_type": "markdown",
      "source": [
        "# Задание 2"
      ],
      "metadata": {
        "id": "OyVLzQH-he4P"
      }
    },
    {
      "cell_type": "code",
      "source": [
        "from sklearn.ensemble import RandomForestClassifier"
      ],
      "metadata": {
        "id": "6wmfFHnohhhd"
      },
      "execution_count": 20,
      "outputs": []
    },
    {
      "cell_type": "code",
      "source": [
        "clf = RandomForestClassifier(n_estimators=1000)\n",
        "clf.fit(X_train, y_train)\n",
        "y_pred = clf.predict(X_test)\n",
        "print(accuracy_score(y_test, y_pred))"
      ],
      "metadata": {
        "colab": {
          "base_uri": "https://localhost:8080/"
        },
        "id": "IpL4DDsVhnMP",
        "outputId": "3e2c73cb-b6a1-49c0-e60a-f85c023f8cf1"
      },
      "execution_count": 21,
      "outputs": [
        {
          "output_type": "stream",
          "name": "stdout",
          "text": [
            "0.9755555555555555\n"
          ]
        }
      ]
    },
    {
      "cell_type": "code",
      "source": [
        ""
      ],
      "metadata": {
        "id": "eC1xSgOIhtXm"
      },
      "execution_count": null,
      "outputs": []
    }
  ]
}